{
 "cells": [
  {
   "cell_type": "markdown",
   "metadata": {},
   "source": [
    "# Audiobook Buying Behaviour Prediction Model using Neural Networks"
   ]
  },
  {
   "cell_type": "markdown",
   "metadata": {},
   "source": [
    "### Import the relevant libraries"
   ]
  },
  {
   "cell_type": "code",
   "execution_count": 1,
   "metadata": {},
   "outputs": [],
   "source": [
    "import numpy as np\n",
    "import tensorflow as tf"
   ]
  },
  {
   "cell_type": "markdown",
   "metadata": {},
   "source": [
    "## Data  \n",
    "\n",
    "### Loading the dataset from .npz"
   ]
  },
  {
   "cell_type": "code",
   "execution_count": 6,
   "metadata": {},
   "outputs": [],
   "source": [
    "# Train Dataset\n",
    "\n",
    "npz = np.load('Audiobooks_data_train.npz')\n",
    "\n",
    "train_inputs = npz['inputs'].astype(np.float)\n",
    "train_targets = npz['targets'].astype(np.int)\n",
    "\n",
    "# Validation Dataset\n",
    "\n",
    "npz = np.load('Audiobooks_data_validation.npz')\n",
    "\n",
    "validation_inputs = npz['inputs'].astype(np.float)\n",
    "validation_targets = npz['targets'].astype(np.int)\n",
    "\n",
    "# Test Dataset\n",
    "\n",
    "npz = np.load('Audiobooks_data_test.npz')\n",
    "\n",
    "test_inputs = npz['inputs'].astype(np.float)\n",
    "test_targets = npz['targets'].astype(np.int)"
   ]
  },
  {
   "cell_type": "markdown",
   "metadata": {},
   "source": [
    "## Model\n",
    "\n",
    "### Outline, Loss, Optimizers, Early Stopping and Training"
   ]
  },
  {
   "cell_type": "code",
   "execution_count": 12,
   "metadata": {
    "scrolled": true
   },
   "outputs": [
    {
     "name": "stdout",
     "output_type": "stream",
     "text": [
      "Train on 3579 samples, validate on 447 samples\n",
      "Epoch 1/100\n",
      "3579/3579 - 0s - loss: 0.5134 - accuracy: 0.8083 - val_loss: 0.3752 - val_accuracy: 0.8546\n",
      "Epoch 2/100\n",
      "3579/3579 - 0s - loss: 0.3495 - accuracy: 0.8790 - val_loss: 0.3146 - val_accuracy: 0.8725\n",
      "Epoch 3/100\n",
      "3579/3579 - 0s - loss: 0.3108 - accuracy: 0.8874 - val_loss: 0.2993 - val_accuracy: 0.8702\n",
      "Epoch 4/100\n",
      "3579/3579 - 0s - loss: 0.2939 - accuracy: 0.8930 - val_loss: 0.2898 - val_accuracy: 0.8792\n",
      "Epoch 5/100\n",
      "3579/3579 - 0s - loss: 0.2796 - accuracy: 0.8966 - val_loss: 0.2836 - val_accuracy: 0.8814\n",
      "Epoch 6/100\n",
      "3579/3579 - 0s - loss: 0.2700 - accuracy: 0.9005 - val_loss: 0.2820 - val_accuracy: 0.8814\n",
      "Epoch 7/100\n",
      "3579/3579 - 0s - loss: 0.2644 - accuracy: 0.9047 - val_loss: 0.2761 - val_accuracy: 0.8792\n",
      "Epoch 8/100\n",
      "3579/3579 - 0s - loss: 0.2582 - accuracy: 0.9044 - val_loss: 0.2738 - val_accuracy: 0.8837\n",
      "Epoch 9/100\n",
      "3579/3579 - 0s - loss: 0.2522 - accuracy: 0.9070 - val_loss: 0.2710 - val_accuracy: 0.8859\n",
      "Epoch 10/100\n",
      "3579/3579 - 0s - loss: 0.2493 - accuracy: 0.9067 - val_loss: 0.2737 - val_accuracy: 0.8814\n",
      "Epoch 11/100\n",
      "3579/3579 - 0s - loss: 0.2460 - accuracy: 0.9092 - val_loss: 0.2696 - val_accuracy: 0.8837\n",
      "Epoch 12/100\n",
      "3579/3579 - 0s - loss: 0.2419 - accuracy: 0.9109 - val_loss: 0.2679 - val_accuracy: 0.8859\n",
      "Epoch 13/100\n",
      "3579/3579 - 0s - loss: 0.2406 - accuracy: 0.9098 - val_loss: 0.2676 - val_accuracy: 0.8837\n",
      "Epoch 14/100\n",
      "3579/3579 - 0s - loss: 0.2394 - accuracy: 0.9098 - val_loss: 0.2659 - val_accuracy: 0.8859\n",
      "Epoch 15/100\n",
      "3579/3579 - 0s - loss: 0.2368 - accuracy: 0.9117 - val_loss: 0.2665 - val_accuracy: 0.8904\n",
      "Epoch 16/100\n",
      "3579/3579 - 0s - loss: 0.2359 - accuracy: 0.9117 - val_loss: 0.2633 - val_accuracy: 0.8881\n",
      "Epoch 17/100\n",
      "3579/3579 - 0s - loss: 0.2333 - accuracy: 0.9137 - val_loss: 0.2666 - val_accuracy: 0.8926\n",
      "Epoch 18/100\n",
      "3579/3579 - 0s - loss: 0.2334 - accuracy: 0.9137 - val_loss: 0.2665 - val_accuracy: 0.8971\n"
     ]
    },
    {
     "data": {
      "text/plain": [
       "<tensorflow.python.keras.callbacks.History at 0x223efff2fc8>"
      ]
     },
     "execution_count": 12,
     "metadata": {},
     "output_type": "execute_result"
    }
   ],
   "source": [
    "input_size = 10\n",
    "output_size = 2\n",
    "hidden_layer_size = 50\n",
    "    \n",
    "model = tf.keras.Sequential([\n",
    "    tf.keras.layers.Dense(hidden_layer_size, activation='relu'), # 1st hidden layer\n",
    "    tf.keras.layers.Dense(hidden_layer_size, activation='relu'), # 2nd hidden layer\n",
    "    tf.keras.layers.Dense(output_size, activation='softmax') # output layer\n",
    "])\n",
    "\n",
    "model.compile(optimizer='adam', loss='sparse_categorical_crossentropy', metrics=['accuracy'])\n",
    "\n",
    "batch_size = 100\n",
    "\n",
    "max_epochs = 100\n",
    "\n",
    "early_stopping = tf.keras.callbacks.EarlyStopping(patience = 2) # No. of consecutive increases to tolerate\n",
    "\n",
    "model.fit(train_inputs,\n",
    "          train_targets,\n",
    "          batch_size,\n",
    "          max_epochs,\n",
    "          callbacks = [early_stopping],\n",
    "          validation_data=(validation_inputs, validation_targets),\n",
    "          verbose = 2)"
   ]
  },
  {
   "cell_type": "markdown",
   "metadata": {},
   "source": [
    "## Test the Model"
   ]
  },
  {
   "cell_type": "code",
   "execution_count": 13,
   "metadata": {},
   "outputs": [
    {
     "name": "stdout",
     "output_type": "stream",
     "text": [
      "448/448 [==============================] - 0s 298us/sample - loss: 0.2571 - accuracy: 0.8996\n"
     ]
    }
   ],
   "source": [
    "test_loss, test_accuracy = model.evaluate(test_inputs,test_targets)"
   ]
  },
  {
   "cell_type": "code",
   "execution_count": 14,
   "metadata": {},
   "outputs": [
    {
     "name": "stdout",
     "output_type": "stream",
     "text": [
      "\n",
      "Test Loss: 0.26.  Test Accuracy: 89.96%\n"
     ]
    }
   ],
   "source": [
    "print('\\nTest Loss: {0:.2f}.  Test Accuracy: {1:.2f}%'.format(test_loss, test_accuracy*100.))"
   ]
  },
  {
   "cell_type": "markdown",
   "metadata": {},
   "source": [
    "### The accuracy of this model is ~ 90 %"
   ]
  }
 ],
 "metadata": {
  "kernelspec": {
   "display_name": "Python 3",
   "language": "python",
   "name": "python3"
  },
  "language_info": {
   "codemirror_mode": {
    "name": "ipython",
    "version": 3
   },
   "file_extension": ".py",
   "mimetype": "text/x-python",
   "name": "python",
   "nbconvert_exporter": "python",
   "pygments_lexer": "ipython3",
   "version": "3.7.7"
  }
 },
 "nbformat": 4,
 "nbformat_minor": 4
}
